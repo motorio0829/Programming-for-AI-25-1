{
  "nbformat": 4,
  "nbformat_minor": 0,
  "metadata": {
    "colab": {
      "private_outputs": true,
      "provenance": [],
      "include_colab_link": true
    },
    "kernelspec": {
      "name": "python3",
      "display_name": "Python 3"
    },
    "language_info": {
      "name": "python"
    }
  },
  "cells": [
    {
      "cell_type": "markdown",
      "metadata": {
        "id": "view-in-github",
        "colab_type": "text"
      },
      "source": [
        "<a href=\"https://colab.research.google.com/github/motorio0829/Programming-for-AI-25-1/blob/main/Lecture10_Basic_analysis_with_Python.ipynb\" target=\"_parent\"><img src=\"https://colab.research.google.com/assets/colab-badge.svg\" alt=\"Open In Colab\"/></a>"
      ]
    },
    {
      "cell_type": "markdown",
      "metadata": {
        "id": "Pr2jPXkOaWlh"
      },
      "source": [
        "# 한국복지패널데이터\n",
        "\n",
        "* <https://www.koweps.re.kr/>\n",
        "* 주관: 한국보건사회연구원\n",
        "* 목적: 국내 가구의 경제활동을 연구하여 정책 지원에 반영할 목적으로 조사\n",
        "* 데이터 전처리 필요 -> 데이터 전처리와 시각화를 연습해봅시다\n",
        "* source: [데이터 시각화 with 파이썬](http://book.naver.com/bookdb/book_detail.naver?bid=18123838)\n"
      ]
    },
    {
      "cell_type": "code",
      "metadata": {
        "id": "9NoGAHopdGE0"
      },
      "source": [
        "# 코랩에서 한글 출력되도록\n",
        "!sudo apt-get install -y fonts-nanum\n",
        "!sudo fc-cache -fv\n",
        "!rm ~/.cache/matplotlib -rf"
      ],
      "execution_count": null,
      "outputs": []
    },
    {
      "cell_type": "code",
      "source": [
        "# 런타임 다시시작\n",
        "import matplotlib.pyplot as plt\n",
        "plt.rc('font', family='NanumBarunGothic')\n",
        "plt.rcParams['axes.unicode_minus'] =False"
      ],
      "metadata": {
        "id": "XpVh2Hu9Gj2V"
      },
      "execution_count": null,
      "outputs": []
    },
    {
      "cell_type": "code",
      "source": [
        "import numpy as np\n",
        "import pandas as pd\n",
        "import matplotlib as mpl\n",
        "import matplotlib.pyplot as plt\n",
        "import seaborn as sns"
      ],
      "metadata": {
        "id": "nAO0rT0s6VYc"
      },
      "execution_count": null,
      "outputs": []
    },
    {
      "cell_type": "code",
      "metadata": {
        "id": "xA8Zj4Aib5dD"
      },
      "source": [
        "from google.colab import drive\n",
        "drive.mount(\"/content/drive\")"
      ],
      "execution_count": null,
      "outputs": []
    },
    {
      "cell_type": "code",
      "metadata": {
        "id": "-W12A_c3ekah"
      },
      "source": [
        "# data path\n",
        "dpath = \"/content/drive/MyDrive/data/\""
      ],
      "execution_count": null,
      "outputs": []
    },
    {
      "cell_type": "markdown",
      "metadata": {
        "id": "Pzj16BfifMTB"
      },
      "source": [
        "## 데이터 읽기\n",
        "\n",
        "* `welfare_python.csv`\n",
        "\n",
        "variable | detail | code\n",
        ":--- | :--- | :---\n",
        "gender | 성별 | 1=남, 2=여\n",
        "birth | 태어난 연도 | YYYY\n",
        "marriage | 혼인상태 | 0=비해당(18세미만), 1=배우자있음, 2=사별, 3=이혼, 4=별거, 5=미혼(18세이상, 미혼모포함), 6=기타(사망 등)\n",
        "religion | 종교 유무 | 1=있음, 2=없음\n",
        "code_job | 직업 코드 | float64(xxx) (`welfare_job.csv` 참고)\n",
        "income | 소득(월평균 임금) | float64(xxx)\n",
        "code_region | 7개 권역별 지역구분 | 1=서울, 2=수도권(인천/경기), 3=부산/경남/울산, 4=대구/경북, 5=대전/충남, 6=강원/충북, 7=광주/전남/전북/제주\n",
        "\n"
      ]
    },
    {
      "cell_type": "code",
      "metadata": {
        "id": "qXaW0tb7e_7K"
      },
      "source": [
        "# import data\n",
        "# - gender : 성별(1=남, 2=여)\n",
        "# - marriage : 혼인상태 (0=비해당(18세미만), 1=배우자있음, 2=사별, 3=이혼, 4=별거, 5=미혼(18세이상, 미혼모포함), 6=기타(사망 등))\n",
        "df = pd.read_csv(dpath + \"welfare_python.csv\")\n",
        "print(df.head())\n",
        "print(df.info())"
      ],
      "execution_count": null,
      "outputs": []
    },
    {
      "cell_type": "code",
      "metadata": {
        "id": "0Gr1Nt_Ke3d_"
      },
      "source": [
        "# unicode error 뜨는 경우 encoding=\"CP949\" 옵션 추가\n",
        "ref = pd.read_csv(dpath + \"welfare_job.csv\", encoding=\"CP949\")\n",
        "ref.head()"
      ],
      "execution_count": null,
      "outputs": []
    },
    {
      "cell_type": "markdown",
      "metadata": {
        "id": "NEmlDq5Yf4EW"
      },
      "source": [
        "## 데이터 전처리\n",
        "\n",
        "1. gender : 1이면 '남성', 2이면 '여성'으로 변경하여 gender2로 코딩\n",
        "2. marriage : 1이면 '결혼', 3이면 '이혼', 나머지는 '그외'로 변경하여 marriage2로 코딩\n",
        "3. code_job : `welfare_job.csv'에서 한글로 된 직업이름정보(job)를 추출하여 병합하여 job으로 코딩\n",
        "5. age : 현재 연도에서 태어난 연도를 빼서 신규컬럼 생성\n",
        "6. religion : 1이면 '종교있음', 2이면 '무교'로 religion2로 표기\n",
        "7. income : 소득이 없는 결측치의 경우 다른 월급들의 평균으로 대체 income2로 저장\n",
        "8. agegroup : 연령(age)이 30세 미만이면 '청년', 30세 이상이면서 60세 미만은 '중년', 60세 이상이면 '노년'으로 신규컬럼 코딩 후 범주형 변수로 변경하기"
      ]
    },
    {
      "cell_type": "code",
      "metadata": {
        "id": "t-XDSl95iPoi"
      },
      "source": [
        "# 1. gender : 1이면 '남성', 2이면 '여성'으로 gender2로 코딩 (loc메소드 적용)\n",
        "df.loc[df.gender==1, \"gender2\"] = \"남성\"\n",
        "df.loc[df.gender==2, \"gender2\"] = \"여성\"\n",
        "df.head()"
      ],
      "execution_count": null,
      "outputs": []
    },
    {
      "cell_type": "code",
      "metadata": {
        "id": "DrlBTdspjnAt"
      },
      "source": [
        "# 1. gender : 1이면 '남성', 2이면 '여성'으로 gender2로 코딩 (dictionary and for문 이용)\n",
        "dic = {1:\"남성\", 2:\"여성\"}\n",
        "df[\"gender2\"] = [dic[i] for i in df.gender]\n",
        "df.head()"
      ],
      "execution_count": null,
      "outputs": []
    },
    {
      "cell_type": "code",
      "metadata": {
        "id": "_OWC2jHViYgu"
      },
      "source": [
        "# 2. marriage : 1이면 '결혼', 3이면 '이혼', 나머지는 '그외'라는 문자열로 처리하여 marriage2로 저장 (lambda함수 적용해보기)\n",
        "def recoding(x):\n",
        "    if x == 1:\n",
        "        return \"결혼\"\n",
        "    elif x == 3:\n",
        "        return \"이혼\"\n",
        "    else:\n",
        "        return \"그외\"\n",
        "\n",
        "df[\"marriage2\"] = df.marriage.apply(lambda x :recoding(x))\n",
        "# dataframe.column.apply(recording)\n",
        "df.head()"
      ],
      "execution_count": null,
      "outputs": []
    },
    {
      "cell_type": "code",
      "metadata": {
        "id": "FJ5ycDCGiZlM"
      },
      "source": [
        "# 3. code_job : `welfare_job.csv'에서 한글로 된 직업이름정보(job)를 추출하여 병합 (merge이용)\n",
        "df = pd.merge(df, ref, on=\"code_job\")\n",
        "df.head()"
      ],
      "execution_count": null,
      "outputs": []
    },
    {
      "cell_type": "code",
      "metadata": {
        "id": "CbGDDX-gia4H"
      },
      "source": [
        "# 5. age : 현재 연도에서 태어난 연도를 빼서 신규컬럼 생성\n",
        "df[\"age\"] = 2024 - df.birth\n",
        "df.head()"
      ],
      "execution_count": null,
      "outputs": []
    },
    {
      "cell_type": "code",
      "metadata": {
        "id": "wU-HTtlEpV9w"
      },
      "source": [
        "# 5. age : 현재 연도에서 태어난 연도를 빼서 신규컬럼 생성 (현재 연도를 함수로 가져와보기)\n",
        "# 구글에서 'year in python' 검색\n",
        "import datetime\n",
        "dt_now = datetime.datetime.now()\n",
        "print(dt_now)\n",
        "print(dt_now.year)\n",
        "\n",
        "\n",
        "df[\"age\"] = datetime.datetime.now().year - df.birth\n",
        "df.head()"
      ],
      "execution_count": null,
      "outputs": []
    },
    {
      "cell_type": "code",
      "metadata": {
        "id": "WyOjP-DNibZM"
      },
      "source": [
        "# 6. religion : 1이면 '종교있음', 2이면 '무교'로 표기하여 religion2로 코딩 (한 줄 if else 구문 이용)\n",
        "df[\"religion2\"] = [\"유\" if i == 1 else \"무\" for i in df.religion]\n",
        "df.religion2.value_counts()"
      ],
      "execution_count": null,
      "outputs": []
    },
    {
      "cell_type": "code",
      "metadata": {
        "id": "6Dz6Oe8ZicLP"
      },
      "source": [
        "# 7. income : 소득이 없는 결측치의 경우 다른 월급들의 평균으로 대체하여 income2로 코딩\n",
        "df.income.isna()      # 결측 확인 (isna() or isnull())\n",
        "sum(df.income.isna()) # 결측치 개수 확인\n",
        "\n",
        "df.income.mean()# 소득의 평균 계산\n",
        "df[\"income2\"] = df.income.fillna(df.income.mean())  # 결측치를 소득의 평균으로 대체"
      ],
      "execution_count": null,
      "outputs": []
    },
    {
      "cell_type": "code",
      "metadata": {
        "id": "Qcp4TANgmYwa"
      },
      "source": [
        "df.head()"
      ],
      "execution_count": null,
      "outputs": []
    },
    {
      "cell_type": "code",
      "metadata": {
        "id": "bAfd3H6aicur"
      },
      "source": [
        "# 8. agegroup : 연령(age)이 30세 미만이면 '청년', 30세 이상이면서 60세 미만은 '중년', 60세 이상이면 '노년'으로 신규컬럼 코딩 (함수 이용)\n",
        "def recoding(x):\n",
        "    if x < 30:\n",
        "        return \"청년\"\n",
        "    elif x < 60:\n",
        "        return \"중년\"\n",
        "    else :\n",
        "        return \"노년\"\n",
        "\n",
        "df[\"agegroup\"] = df.age.apply(recoding)\n",
        "df.head()\n",
        "df.agegroup.value_counts()"
      ],
      "execution_count": null,
      "outputs": []
    },
    {
      "cell_type": "code",
      "source": [
        "df.head()"
      ],
      "metadata": {
        "id": "isHyWU0VXWVy"
      },
      "execution_count": null,
      "outputs": []
    },
    {
      "cell_type": "code",
      "metadata": {
        "id": "dGfglquIqu98"
      },
      "source": [
        "# 8. 범주형 변수로 순서 카테고리 지정하기\n",
        "df.agegroup = pd.Categorical(df.agegroup, categories=[\"청년\", \"중년\", \"노년\"])\n",
        "df.agegroup"
      ],
      "execution_count": null,
      "outputs": []
    },
    {
      "cell_type": "code",
      "metadata": {
        "id": "_OaibVYzri2F"
      },
      "source": [
        "# 9. 다음 변수만 모아서 한글변수명을 붙이고 df2에 저장\n",
        "# age=연령, agegroup=연령대, birth=생년, gender2=성별, marriage2=결혼상태, religion2=종교유무, job=직업, income2=월소득\n",
        "\n",
        "df2 = df[[\"age\", \"agegroup\", \"birth\", \"gender2\", \"marriage2\", \"religion2\", \"job\", \"income2\"]]\n",
        "df2.head()"
      ],
      "execution_count": null,
      "outputs": []
    },
    {
      "cell_type": "code",
      "metadata": {
        "id": "qtPYVEgqvAFP"
      },
      "source": [
        "df2.columns  # 컬럼명 확인"
      ],
      "execution_count": null,
      "outputs": []
    },
    {
      "cell_type": "code",
      "metadata": {
        "id": "apurB-Y3waXP"
      },
      "source": [
        "# 위치가 변경될 수 있으니 dictionary 이용\n",
        "dic = {\"age\":\"연령\", \"agegroup\":\"연령대\", \"birth\":\"생년\", \"gender2\":\"성별\", \"marriage2\":\"결혼상태\", \"religion2\":\"종교유무\",\n",
        "       \"job\":\"직업\", \"income2\":\"월소득\"}\n",
        "df2.rename(columns=dic, inplace=True)\n",
        "df2.head()"
      ],
      "execution_count": null,
      "outputs": []
    },
    {
      "cell_type": "code",
      "metadata": {
        "id": "dkR9KNa7xJST"
      },
      "source": [
        "# df2를 /contents/drive/MyDrive/data/welfare_clean.csv로 저장\n",
        "df2.to_csv(dpath + \"welfare_clean.csv\")"
      ],
      "execution_count": null,
      "outputs": []
    },
    {
      "cell_type": "code",
      "metadata": {
        "id": "-RT0qlluxNZj"
      },
      "source": [
        "# welfare_clean.csv를 불러와서 잘 저장되었는지 확인해보기\n",
        "df = pd.read_csv(dpath + \"welfare_clean.csv\")\n",
        "df.head()"
      ],
      "execution_count": null,
      "outputs": []
    },
    {
      "cell_type": "code",
      "metadata": {
        "id": "ygcXZ-HxySOS"
      },
      "source": [
        "# df2를 /contents/drive/MyDrive/data/welfare_clean.csv로 저장 (index 없이 저장하기)\n",
        "df2.to_csv(dpath + \"welfare_clean.csv\", index=False)\n",
        "\n",
        "# welfare_clean.csv를 불러와서 잘 저장되었는지 확인해보기\n",
        "df = pd.read_csv(dpath + \"welfare_clean.csv\")\n",
        "df.head()"
      ],
      "execution_count": null,
      "outputs": []
    },
    {
      "cell_type": "markdown",
      "metadata": {
        "id": "9PFCsiiCyme9"
      },
      "source": [
        "## 데이터 시각화"
      ]
    },
    {
      "cell_type": "markdown",
      "metadata": {
        "id": "MCJM020KyyOw"
      },
      "source": [
        "### 결혼상태와 종교유무의 분포"
      ]
    },
    {
      "cell_type": "code",
      "metadata": {
        "id": "E0jyPtOuzEFj"
      },
      "source": [
        "# 결혼상태별 빈도 확인\n",
        "df[\"결혼상태\"].value_counts()"
      ],
      "execution_count": null,
      "outputs": []
    },
    {
      "cell_type": "code",
      "metadata": {
        "id": "qIppfK6h0u7_"
      },
      "source": [
        "# 빈도막대그래프 그리기\n",
        "sns.catplot(kind=\"count\", x=\"결혼상태\", data=df);"
      ],
      "execution_count": null,
      "outputs": []
    },
    {
      "cell_type": "code",
      "metadata": {
        "id": "IiMCQnsVzQam"
      },
      "source": [
        "# 결혼상태 순서를 정해주기\n",
        "df[\"결혼상태\"] = pd.Categorical(df[\"결혼상태\"], categories=[\"결혼\", \"이혼\", \"그외\"])"
      ],
      "execution_count": null,
      "outputs": []
    },
    {
      "cell_type": "code",
      "metadata": {
        "id": "Ty2K6U3azh-r"
      },
      "source": [
        "sns.catplot(kind=\"count\", x=\"결혼상태\", data=df);"
      ],
      "execution_count": null,
      "outputs": []
    },
    {
      "cell_type": "code",
      "metadata": {
        "id": "6rd_qbn30UFM"
      },
      "source": [
        "# countplot()의 order 옵션 사용해서 이혼, 결혼, 그외 순으로 그림 그려보기\n",
        "sns.catplot(kind=\"count\", x=\"결혼상태\", data=df, order=[\"이혼\", \"결혼\", \"그외\"]);"
      ],
      "execution_count": null,
      "outputs": []
    },
    {
      "cell_type": "code",
      "metadata": {
        "id": "ZZX3HY5n0mx0"
      },
      "source": [
        "# 결혼상태에 따라 종교유무를 나누어 표기\n",
        "# 막대 색상을 팔레트 \"Set2\" 이용\n",
        "sns.countplot(x=\"결혼상태\", data=df, hue=\"종교유무\", palette=\"Set2\");"
      ],
      "execution_count": null,
      "outputs": []
    },
    {
      "cell_type": "code",
      "metadata": {
        "id": "u-Rf4Dv21J-o"
      },
      "source": [
        "# 결혼상태에 따라 종교유무를 나누어 표기 (종교 유 > 무 순으로 표기)\n",
        "# 테두리 두께를 1로 지정하고, 테두리 색상을 navy로 주기\n",
        "sns.countplot(x=\"결혼상태\", data=df, hue=\"종교유무\", hue_order=[\"유\", \"무\"],\n",
        "              linewidth=1, edgecolor=\"navy\");"
      ],
      "execution_count": null,
      "outputs": []
    },
    {
      "cell_type": "code",
      "metadata": {
        "id": "2Mvpe2Uc1R1s"
      },
      "source": [
        "# 위 그림을 가로막대로 그리고, 막대 색상을 팔레트 \"Paired\"로 주고, 테두리 색상을 gray로 주기\n",
        "sns.countplot(y=\"결혼상태\", data=df, hue=\"종교유무\", palette=\"Paired\", edgecolor=\"gray\");"
      ],
      "execution_count": null,
      "outputs": []
    },
    {
      "cell_type": "markdown",
      "metadata": {
        "id": "lMmyw1WZ2Ys_"
      },
      "source": [
        "### 연령 분포\n"
      ]
    },
    {
      "cell_type": "code",
      "metadata": {
        "id": "5aVRm0SU2qYr"
      },
      "source": [
        "# 연령에 대한 히스토그램\n",
        "sns.displot(kind=\"hist\", x=\"연령\", data=df, binwidth=5);"
      ],
      "execution_count": null,
      "outputs": []
    },
    {
      "cell_type": "code",
      "metadata": {
        "id": "3uw9aMOe2-AB"
      },
      "source": [
        "# 연령에 대한 히스토그램에 밀도곡선 얹고, 색상을 magenta로 지정하기\n",
        "sns.displot(kind=\"hist\", x=\"연령\", data=df, binwidth=5, kde=True, color=\"m\");"
      ],
      "execution_count": null,
      "outputs": []
    },
    {
      "cell_type": "markdown",
      "metadata": {
        "id": "jEB609VF3NSg"
      },
      "source": [
        "### 연령과 소득, 결혼유무 분포"
      ]
    },
    {
      "cell_type": "code",
      "metadata": {
        "id": "ysjMbXRH3t9K"
      },
      "source": [
        "# 연령과 월소득의 산점도\n",
        "sns.relplot(kind=\"scatter\", x=\"연령\", y=\"월소득\", data=df);"
      ],
      "execution_count": null,
      "outputs": []
    },
    {
      "cell_type": "code",
      "metadata": {
        "id": "u_QvR7J-30et"
      },
      "source": [
        "# 연령과 월소득의 산점도 그린 뒤, 마진에 히스토그램 얹기\n",
        "sns.jointplot(x=\"연령\", y=\"월소득\", data=df);"
      ],
      "execution_count": null,
      "outputs": []
    },
    {
      "cell_type": "code",
      "metadata": {
        "id": "RlQFLjKn375D"
      },
      "source": [
        "# pairplot으로 그림 그리기\n",
        "sns.pairplot(data=df[[\"연령\", \"월소득\"]]);"
      ],
      "execution_count": null,
      "outputs": []
    },
    {
      "cell_type": "code",
      "metadata": {
        "id": "riq2D3zN4CnR"
      },
      "source": [
        "# pairplot의 대각선은 밀도곡선으로 변경하고, 하삼각만 그리기\n",
        "sns.pairplot(data=df[[\"연령\", \"월소득\"]], diag_kind=\"kde\", corner=True);"
      ],
      "execution_count": null,
      "outputs": []
    },
    {
      "cell_type": "code",
      "metadata": {
        "id": "QGO89je84Irx"
      },
      "source": [
        "# 연령과 월소득에 대한 pairplot을 결혼상태에 따라 색상을 구분하여 그리기\n",
        "sns.pairplot(data=df[[\"연령\", \"월소득\", \"결혼상태\"]], hue=\"결혼상태\");"
      ],
      "execution_count": null,
      "outputs": []
    },
    {
      "cell_type": "code",
      "metadata": {
        "id": "sbllizlA4kQb"
      },
      "source": [
        "# 연령과 월소득에 대한 산점도를 결혼상태에 따라 나눠서 그리되, 결혼상태는 결혼과 이혼만 추출해서 그리기\n",
        "sns.relplot(kind=\"scatter\", x=\"연령\", y=\"월소득\", data=df.query(\"결혼상태 == '결혼' | 결혼상태 == '이혼'\"),\n",
        "            col=\"결혼상태\", col_order=[\"결혼\", \"이혼\"]);"
      ],
      "execution_count": null,
      "outputs": []
    },
    {
      "cell_type": "code",
      "metadata": {
        "id": "riSAxDV-J-_s"
      },
      "source": [
        "# 연령에 따른 월소득을 회귀도표로 나타내되, 결혼상태에 따라 항목을 나누어서 그리고, 90% 신뢰구간 추가하기\n",
        "sns.lmplot(x=\"연령\", y=\"월소득\", data=df, col=\"결혼상태\", ci=90);"
      ],
      "execution_count": null,
      "outputs": []
    },
    {
      "cell_type": "markdown",
      "metadata": {
        "id": "8UeYC0kz5l2c"
      },
      "source": [
        "### 성별과 연령 분포"
      ]
    },
    {
      "cell_type": "code",
      "metadata": {
        "id": "e_DZ07JD58Ty"
      },
      "source": [
        "# 연령에 대한 박스그림\n",
        "sns.catplot(kind=\"box\", x=\"연령\", data=df, width=0.5);"
      ],
      "execution_count": null,
      "outputs": []
    },
    {
      "cell_type": "code",
      "metadata": {
        "id": "N2Q33dJ56GJu"
      },
      "source": [
        "# 성별에 따라 연령에 대한 바이올린 그림 그리기\n",
        "sns.violinplot(x=\"성별\", y=\"연령\", data=df);"
      ],
      "execution_count": null,
      "outputs": []
    },
    {
      "cell_type": "code",
      "metadata": {
        "id": "62mQNQje6ZAk"
      },
      "source": [
        "# 성별에 따른 연령분포에 대한 바이올린 그림을 결혼상태에 따라 나눠 그리기 (단, 결혼상태는 '결혼', '그외'만 추출하여 그리기)\n",
        "sns.violinplot(x=\"성별\", y=\"연령\", data=df.query(\"결혼상태 != '이혼'\"), hue=\"결혼상태\", hue_order=[\"결혼\", \"그외\"]);"
      ],
      "execution_count": null,
      "outputs": []
    },
    {
      "cell_type": "code",
      "metadata": {
        "id": "fwl69eQf6-mm"
      },
      "source": [
        "# 성별에 따른 연령분포에 대한 바이올린 그림을 결혼상태에 따라 분할된 바이올린으로 그리기 (단, 결혼상태는 '결혼', '그외'만 추출하여 그리기)\n",
        "sns.violinplot(x=\"성별\", y=\"연령\", data=df.query(\"결혼상태 != '이혼'\"), hue=\"결혼상태\", hue_order=[\"결혼\", \"그외\"], split=True);"
      ],
      "execution_count": null,
      "outputs": []
    },
    {
      "cell_type": "markdown",
      "metadata": {
        "id": "9HbjPr0N7OU4"
      },
      "source": [
        "### 성별과 소득 분포"
      ]
    },
    {
      "cell_type": "code",
      "metadata": {
        "id": "NrkvxhVFKfFo"
      },
      "source": [
        "# 성별에 따른 평균 월소득 계산\n",
        "df.groupby(\"성별\")[\"월소득\"].mean()"
      ],
      "execution_count": null,
      "outputs": []
    },
    {
      "cell_type": "code",
      "metadata": {
        "id": "wC2mrbpQK6Db"
      },
      "source": [
        "df[\"월소득\"].groupby(df[\"성별\"]).mean()"
      ],
      "execution_count": null,
      "outputs": []
    },
    {
      "cell_type": "code",
      "metadata": {
        "id": "rDPPp65YK36Q"
      },
      "source": [
        "# 성별에 따른 평균 월소득에 대한 평균막대그래프 (신뢰구간 표시 안하기)\n",
        "sns.catplot(kind=\"bar\", x=\"성별\", y=\"월소득\", data=df, ci=None);"
      ],
      "execution_count": null,
      "outputs": []
    },
    {
      "cell_type": "code",
      "metadata": {
        "id": "qZ4UYC61LMrW"
      },
      "source": [
        "# 성별에 따른 평균 월소득에 대한 평균막대그래프를 결혼상태에 따라 구분하여 가로막대로 그리기\n",
        "sns.catplot(kind=\"bar\", y=\"성별\", x=\"월소득\", data=df, ci=None, hue=\"결혼상태\");"
      ],
      "execution_count": null,
      "outputs": []
    },
    {
      "cell_type": "code",
      "metadata": {
        "id": "QoZWm3yDLoHw"
      },
      "source": [
        "# 성별에 따른 월소득에 대한 박스그림 그리기\n",
        "sns.catplot(kind=\"box\", x=\"성별\", y=\"월소득\", data=df);"
      ],
      "execution_count": null,
      "outputs": []
    },
    {
      "cell_type": "code",
      "metadata": {
        "id": "W7En91OzL2wG"
      },
      "source": [
        "# 성별에 따른 월소득에 대한 박스그림 그리기 (평균 월소득이 400 이하인 개체만 추출)\n",
        "sns.catplot(kind=\"box\", x=\"성별\", y=\"월소득\", data=df.query(\"월소득<=400\"));"
      ],
      "execution_count": null,
      "outputs": []
    },
    {
      "cell_type": "code",
      "metadata": {
        "id": "JUqJqwZqMJXc"
      },
      "source": [
        "# 위 그림에 jitter형태로 데이터 표현하기 (색상은 검정, 점모양은 .으로 표현)\n",
        "sns.catplot(kind=\"box\", x=\"성별\", y=\"월소득\", data=df.query(\"월소득<=400\"))\n",
        "sns.stripplot(x=\"성별\", y=\"월소득\", data=df.query(\"월소득<=400\"), color=\"k\", marker=\".\");"
      ],
      "execution_count": null,
      "outputs": []
    },
    {
      "cell_type": "markdown",
      "metadata": {
        "id": "o8_Q3C6h29p2"
      },
      "source": [
        "# THE END"
      ]
    }
  ]
}